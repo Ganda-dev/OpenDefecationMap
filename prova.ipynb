{
 "cells": [
  {
   "cell_type": "code",
   "execution_count": 63,
   "metadata": {},
   "outputs": [
    {
     "data": {
      "application/vnd.plotly.v1+json": {
       "config": {
        "plotlyServerURL": "https://plot.ly"
       },
       "data": [
        {
         "coloraxis": "coloraxis",
         "geo": "geo",
         "hovertemplate": "locations=%{location}<br>color=%{z}<extra></extra>",
         "locationmode": "country names",
         "locations": [
          "Aruba",
          "Africa Eastern and Southern",
          "Afghanistan",
          "Africa Western and Central",
          "Angola",
          "Albania",
          "Andorra",
          "Arab World",
          "United Arab Emirates",
          "Argentina",
          "Armenia",
          "American Samoa",
          "Antigua and Barbuda",
          "Australia",
          "Austria",
          "Azerbaijan",
          "Burundi",
          "Belgium",
          "Benin",
          "Burkina Faso",
          "Bangladesh",
          "Bulgaria",
          "Bahrain",
          "Bahamas, The",
          "Bosnia and Herzegovina",
          "Belarus",
          "Belize",
          "Bermuda",
          "Bolivia",
          "Brazil",
          "Barbados",
          "Brunei Darussalam",
          "Bhutan",
          "Botswana",
          "Central African Republic",
          "Canada",
          "Central Europe and the Baltics",
          "Switzerland",
          "Channel Islands",
          "Chile",
          "China",
          "Cote d'Ivoire",
          "Cameroon",
          "Congo, Dem. Rep.",
          "Congo, Rep.",
          "Colombia",
          "Comoros",
          "Cabo Verde",
          "Costa Rica",
          "Caribbean small states",
          "Cuba",
          "Curacao",
          "Cayman Islands",
          "Cyprus",
          "Czechia",
          "Germany",
          "Djibouti",
          "Dominica",
          "Denmark",
          "Dominican Republic",
          "Algeria",
          "East Asia & Pacific (excluding high income)",
          "Early-demographic dividend",
          "East Asia & Pacific",
          "Europe & Central Asia (excluding high income)",
          "Europe & Central Asia",
          "Ecuador",
          "Egypt, Arab Rep.",
          "Euro area",
          "Eritrea",
          "Spain",
          "Estonia",
          "Ethiopia",
          "European Union",
          "Fragile and conflict affected situations",
          "Finland",
          "Fiji",
          "France",
          "Faroe Islands",
          "Micronesia, Fed. Sts.",
          "Gabon",
          "United Kingdom",
          "Georgia",
          "Ghana",
          "Gibraltar",
          "Guinea",
          "Gambia, The",
          "Guinea-Bissau",
          "Equatorial Guinea",
          "Greece",
          "Grenada",
          "Greenland",
          "Guatemala",
          "Guam",
          "Guyana",
          "High income",
          "Hong Kong SAR, China",
          "Honduras",
          "Heavily indebted poor countries (HIPC)",
          "Croatia",
          "Haiti",
          "Hungary",
          "IBRD only",
          "IDA & IBRD total",
          "IDA total",
          "IDA blend",
          "Indonesia",
          "IDA only",
          "Isle of Man",
          "India",
          "Not classified",
          "Ireland",
          "Iran, Islamic Rep.",
          "Iraq",
          "Iceland",
          "Israel",
          "Italy",
          "Jamaica",
          "Jordan",
          "Japan",
          "Kazakhstan",
          "Kenya",
          "Kyrgyz Republic",
          "Cambodia",
          "Kiribati",
          "St. Kitts and Nevis",
          "Korea, Rep.",
          "Kuwait",
          "Latin America & Caribbean (excluding high income)",
          "Lao PDR",
          "Lebanon",
          "Liberia",
          "Libya",
          "St. Lucia",
          "Latin America & Caribbean",
          "Least developed countries: UN classification",
          "Low income",
          "Liechtenstein",
          "Sri Lanka",
          "Lower middle income",
          "Low & middle income",
          "Lesotho",
          "Late-demographic dividend",
          "Lithuania",
          "Luxembourg",
          "Latvia",
          "Macao SAR, China",
          "St. Martin (French part)",
          "Morocco",
          "Monaco",
          "Moldova",
          "Madagascar",
          "Maldives",
          "Middle East & North Africa",
          "Mexico",
          "Marshall Islands",
          "Middle income",
          "North Macedonia",
          "Mali",
          "Malta",
          "Myanmar",
          "Middle East & North Africa (excluding high income)",
          "Montenegro",
          "Mongolia",
          "Northern Mariana Islands",
          "Mozambique",
          "Mauritania",
          "Mauritius",
          "Malawi",
          "Malaysia",
          "North America",
          "Namibia",
          "New Caledonia",
          "Niger",
          "Nigeria",
          "Nicaragua",
          "Netherlands",
          "Norway",
          "Nepal",
          "Nauru",
          "New Zealand",
          "OECD members",
          "Oman",
          "Other small states",
          "Pakistan",
          "Panama",
          "Peru",
          "Philippines",
          "Palau",
          "Papua New Guinea",
          "Poland",
          "Pre-demographic dividend",
          "Puerto Rico",
          "Korea, Dem. People's Rep.",
          "Portugal",
          "Paraguay",
          "West Bank and Gaza",
          "Pacific island small states",
          "Post-demographic dividend",
          "French Polynesia",
          "Qatar",
          "Romania",
          "Russian Federation",
          "Rwanda",
          "South Asia",
          "Saudi Arabia",
          "Sudan",
          "Senegal",
          "Singapore",
          "Solomon Islands",
          "Sierra Leone",
          "El Salvador",
          "San Marino",
          "Somalia",
          "Serbia",
          "Sub-Saharan Africa (excluding high income)",
          "South Sudan",
          "Sub-Saharan Africa",
          "Small states",
          "Sao Tome and Principe",
          "Suriname",
          "Slovak Republic",
          "Slovenia",
          "Sweden",
          "Eswatini",
          "Sint Maarten (Dutch part)",
          "Seychelles",
          "Syrian Arab Republic",
          "Turks and Caicos Islands",
          "Chad",
          "East Asia & Pacific (IDA & IBRD countries)",
          "Europe & Central Asia (IDA & IBRD countries)",
          "Togo",
          "Thailand",
          "Tajikistan",
          "Turkmenistan",
          "Latin America & the Caribbean (IDA & IBRD countries)",
          "Timor-Leste",
          "Middle East & North Africa (IDA & IBRD countries)",
          "Tonga",
          "South Asia (IDA & IBRD)",
          "Sub-Saharan Africa (IDA & IBRD countries)",
          "Trinidad and Tobago",
          "Tunisia",
          "Turkiye",
          "Tuvalu",
          "Tanzania",
          "Uganda",
          "Ukraine",
          "Upper middle income",
          "Uruguay",
          "United States",
          "Uzbekistan",
          "St. Vincent and the Grenadines",
          "Venezuela, RB",
          "British Virgin Islands",
          "Virgin Islands (U.S.)",
          "Vietnam",
          "Vanuatu",
          "World",
          "Samoa",
          "Kosovo",
          "Yemen, Rep.",
          "South Africa",
          "Zambia",
          "Zimbabwe"
         ],
         "name": "",
         "type": "choropleth",
         "z": [
          null,
          14.577138934618,
          10.78376141,
          23.7354561341348,
          17.9683211,
          0,
          0,
          4.65228494212034,
          0,
          null,
          0.010683577,
          0.700868298,
          null,
          0,
          0,
          null,
          2.584831222,
          0,
          51.57581613,
          39.92080249,
          0,
          0,
          0,
          null,
          null,
          0,
          0.56936533,
          0,
          9.793308479,
          0.30412818,
          null,
          null,
          0,
          9.81037702,
          25.14773074,
          0,
          0,
          0,
          null,
          0,
          0.321344479,
          25.25768082,
          5.545893782,
          12.02538391,
          8.450989011,
          2.585484929,
          null,
          14.44811122,
          0.126586035,
          0.761807354998141,
          0.240706311,
          null,
          null,
          0,
          0,
          0,
          16.18210304,
          null,
          0,
          2.252392991,
          0,
          1.8608878269114,
          9.36300993624229,
          1.68071862859054,
          0.0357487290341917,
          0.0151885772204214,
          0.905077948,
          0,
          0,
          null,
          0,
          0,
          16.99517615,
          0,
          16.5746101447696,
          0,
          0,
          0,
          null,
          null,
          2.007312407,
          0,
          0.006699807,
          17.77811907,
          0,
          11.80829729,
          0.100256752,
          10.3280676,
          null,
          0,
          null,
          0,
          2.023599609,
          null,
          0.61013846,
          0.0154305006852644,
          0,
          4.176194551,
          18.7161834343825,
          0,
          18.13326464,
          0,
          5.35360199073408,
          7.69487831104415,
          14.1365795532995,
          11.5795984593028,
          6.106439105,
          15.4559093391929,
          null,
          14.9269267,
          null,
          0,
          null,
          0,
          0,
          0,
          0,
          0.797579805,
          0.105266924,
          0,
          0,
          8.506339764,
          0,
          19.27920294,
          29.77130295,
          null,
          0,
          0,
          1.56932912124848,
          16.48997195,
          0,
          37.68302633,
          0.747842447,
          6.199663045,
          1.58593381444021,
          15.6444465635904,
          19.3287088526458,
          0,
          0,
          10.7586471617797,
          7.77148528239064,
          21.98574388,
          0.453875756074851,
          0,
          0,
          0,
          0,
          0,
          1.733447118,
          0,
          0.133352337,
          42.37672605,
          0,
          1.08167498490346,
          0.096456614,
          9.754285962,
          6.39524556639687,
          0.128116286,
          4.93614394,
          0,
          6.996069735,
          1.32438726386957,
          0.041845763,
          8.421865806,
          0.159628312,
          20.74359225,
          30.67496665,
          null,
          4.463664696,
          null,
          0,
          47.15931001,
          0,
          68.10619172,
          18.66249807,
          6.791772689,
          0,
          0,
          9.782587852,
          null,
          0,
          0.114834450159124,
          0,
          9.94610812402751,
          7.303359668,
          4.1932288,
          4.39777087,
          3.786328299,
          0,
          16.13159141,
          0,
          18.5906675064148,
          0,
          0,
          0,
          0.343285633,
          0.140717988,
          14.5084092973658,
          0.0024423300777149,
          0,
          0,
          0,
          0,
          1.966497836,
          12.329376202654,
          0,
          24.00786171,
          11.25308036,
          0,
          44.79094546,
          16.39084581,
          0.297384925,
          0,
          23.12102855,
          0.031691066,
          18.2977700826987,
          60.12719512,
          18.2961953342436,
          8.67854896088744,
          42.62540047,
          1.21956204,
          0,
          0,
          0,
          3.814014842,
          null,
          0,
          null,
          null,
          64.07332241,
          1.88431302352796,
          0.0308513634995253,
          45.15001658,
          0,
          0,
          0,
          1.62096149784556,
          18.21605815,
          1.34340581137277,
          0.016902839,
          12.329376202654,
          18.2961953342436,
          0,
          0,
          0.152950913,
          null,
          10.89485073,
          4.675956061,
          0,
          0.447964497618016,
          0.214195109,
          0,
          0,
          null,
          3.023846459,
          null,
          0,
          2.933473771,
          0.302012749,
          6.51125411229851,
          0.145512465,
          null,
          9.733525995,
          0.224160013,
          11.25345933,
          23.49863168
         ]
        }
       ],
       "layout": {
        "coloraxis": {
         "colorbar": {
          "title": {
           "text": "color"
          }
         },
         "colorscale": [
          [
           0,
           "rgb(247,251,255)"
          ],
          [
           0.125,
           "rgb(222,235,247)"
          ],
          [
           0.25,
           "rgb(198,219,239)"
          ],
          [
           0.375,
           "rgb(158,202,225)"
          ],
          [
           0.5,
           "rgb(107,174,214)"
          ],
          [
           0.625,
           "rgb(66,146,198)"
          ],
          [
           0.75,
           "rgb(33,113,181)"
          ],
          [
           0.875,
           "rgb(8,81,156)"
          ],
          [
           1,
           "rgb(8,48,107)"
          ]
         ]
        },
        "geo": {
         "center": {},
         "domain": {
          "x": [
           0,
           1
          ],
          "y": [
           0,
           1
          ]
         },
         "resolution": 110,
         "scope": "world",
         "showcountries": true,
         "showsubunits": true,
         "visible": true
        },
        "legend": {
         "tracegroupgap": 0
        },
        "margin": {
         "b": 0,
         "l": 0,
         "r": 0,
         "t": 0
        },
        "template": {
         "data": {
          "bar": [
           {
            "error_x": {
             "color": "#2a3f5f"
            },
            "error_y": {
             "color": "#2a3f5f"
            },
            "marker": {
             "line": {
              "color": "#E5ECF6",
              "width": 0.5
             },
             "pattern": {
              "fillmode": "overlay",
              "size": 10,
              "solidity": 0.2
             }
            },
            "type": "bar"
           }
          ],
          "barpolar": [
           {
            "marker": {
             "line": {
              "color": "#E5ECF6",
              "width": 0.5
             },
             "pattern": {
              "fillmode": "overlay",
              "size": 10,
              "solidity": 0.2
             }
            },
            "type": "barpolar"
           }
          ],
          "carpet": [
           {
            "aaxis": {
             "endlinecolor": "#2a3f5f",
             "gridcolor": "white",
             "linecolor": "white",
             "minorgridcolor": "white",
             "startlinecolor": "#2a3f5f"
            },
            "baxis": {
             "endlinecolor": "#2a3f5f",
             "gridcolor": "white",
             "linecolor": "white",
             "minorgridcolor": "white",
             "startlinecolor": "#2a3f5f"
            },
            "type": "carpet"
           }
          ],
          "choropleth": [
           {
            "colorbar": {
             "outlinewidth": 0,
             "ticks": ""
            },
            "type": "choropleth"
           }
          ],
          "contour": [
           {
            "colorbar": {
             "outlinewidth": 0,
             "ticks": ""
            },
            "colorscale": [
             [
              0,
              "#0d0887"
             ],
             [
              0.1111111111111111,
              "#46039f"
             ],
             [
              0.2222222222222222,
              "#7201a8"
             ],
             [
              0.3333333333333333,
              "#9c179e"
             ],
             [
              0.4444444444444444,
              "#bd3786"
             ],
             [
              0.5555555555555556,
              "#d8576b"
             ],
             [
              0.6666666666666666,
              "#ed7953"
             ],
             [
              0.7777777777777778,
              "#fb9f3a"
             ],
             [
              0.8888888888888888,
              "#fdca26"
             ],
             [
              1,
              "#f0f921"
             ]
            ],
            "type": "contour"
           }
          ],
          "contourcarpet": [
           {
            "colorbar": {
             "outlinewidth": 0,
             "ticks": ""
            },
            "type": "contourcarpet"
           }
          ],
          "heatmap": [
           {
            "colorbar": {
             "outlinewidth": 0,
             "ticks": ""
            },
            "colorscale": [
             [
              0,
              "#0d0887"
             ],
             [
              0.1111111111111111,
              "#46039f"
             ],
             [
              0.2222222222222222,
              "#7201a8"
             ],
             [
              0.3333333333333333,
              "#9c179e"
             ],
             [
              0.4444444444444444,
              "#bd3786"
             ],
             [
              0.5555555555555556,
              "#d8576b"
             ],
             [
              0.6666666666666666,
              "#ed7953"
             ],
             [
              0.7777777777777778,
              "#fb9f3a"
             ],
             [
              0.8888888888888888,
              "#fdca26"
             ],
             [
              1,
              "#f0f921"
             ]
            ],
            "type": "heatmap"
           }
          ],
          "heatmapgl": [
           {
            "colorbar": {
             "outlinewidth": 0,
             "ticks": ""
            },
            "colorscale": [
             [
              0,
              "#0d0887"
             ],
             [
              0.1111111111111111,
              "#46039f"
             ],
             [
              0.2222222222222222,
              "#7201a8"
             ],
             [
              0.3333333333333333,
              "#9c179e"
             ],
             [
              0.4444444444444444,
              "#bd3786"
             ],
             [
              0.5555555555555556,
              "#d8576b"
             ],
             [
              0.6666666666666666,
              "#ed7953"
             ],
             [
              0.7777777777777778,
              "#fb9f3a"
             ],
             [
              0.8888888888888888,
              "#fdca26"
             ],
             [
              1,
              "#f0f921"
             ]
            ],
            "type": "heatmapgl"
           }
          ],
          "histogram": [
           {
            "marker": {
             "pattern": {
              "fillmode": "overlay",
              "size": 10,
              "solidity": 0.2
             }
            },
            "type": "histogram"
           }
          ],
          "histogram2d": [
           {
            "colorbar": {
             "outlinewidth": 0,
             "ticks": ""
            },
            "colorscale": [
             [
              0,
              "#0d0887"
             ],
             [
              0.1111111111111111,
              "#46039f"
             ],
             [
              0.2222222222222222,
              "#7201a8"
             ],
             [
              0.3333333333333333,
              "#9c179e"
             ],
             [
              0.4444444444444444,
              "#bd3786"
             ],
             [
              0.5555555555555556,
              "#d8576b"
             ],
             [
              0.6666666666666666,
              "#ed7953"
             ],
             [
              0.7777777777777778,
              "#fb9f3a"
             ],
             [
              0.8888888888888888,
              "#fdca26"
             ],
             [
              1,
              "#f0f921"
             ]
            ],
            "type": "histogram2d"
           }
          ],
          "histogram2dcontour": [
           {
            "colorbar": {
             "outlinewidth": 0,
             "ticks": ""
            },
            "colorscale": [
             [
              0,
              "#0d0887"
             ],
             [
              0.1111111111111111,
              "#46039f"
             ],
             [
              0.2222222222222222,
              "#7201a8"
             ],
             [
              0.3333333333333333,
              "#9c179e"
             ],
             [
              0.4444444444444444,
              "#bd3786"
             ],
             [
              0.5555555555555556,
              "#d8576b"
             ],
             [
              0.6666666666666666,
              "#ed7953"
             ],
             [
              0.7777777777777778,
              "#fb9f3a"
             ],
             [
              0.8888888888888888,
              "#fdca26"
             ],
             [
              1,
              "#f0f921"
             ]
            ],
            "type": "histogram2dcontour"
           }
          ],
          "mesh3d": [
           {
            "colorbar": {
             "outlinewidth": 0,
             "ticks": ""
            },
            "type": "mesh3d"
           }
          ],
          "parcoords": [
           {
            "line": {
             "colorbar": {
              "outlinewidth": 0,
              "ticks": ""
             }
            },
            "type": "parcoords"
           }
          ],
          "pie": [
           {
            "automargin": true,
            "type": "pie"
           }
          ],
          "scatter": [
           {
            "fillpattern": {
             "fillmode": "overlay",
             "size": 10,
             "solidity": 0.2
            },
            "type": "scatter"
           }
          ],
          "scatter3d": [
           {
            "line": {
             "colorbar": {
              "outlinewidth": 0,
              "ticks": ""
             }
            },
            "marker": {
             "colorbar": {
              "outlinewidth": 0,
              "ticks": ""
             }
            },
            "type": "scatter3d"
           }
          ],
          "scattercarpet": [
           {
            "marker": {
             "colorbar": {
              "outlinewidth": 0,
              "ticks": ""
             }
            },
            "type": "scattercarpet"
           }
          ],
          "scattergeo": [
           {
            "marker": {
             "colorbar": {
              "outlinewidth": 0,
              "ticks": ""
             }
            },
            "type": "scattergeo"
           }
          ],
          "scattergl": [
           {
            "marker": {
             "colorbar": {
              "outlinewidth": 0,
              "ticks": ""
             }
            },
            "type": "scattergl"
           }
          ],
          "scattermapbox": [
           {
            "marker": {
             "colorbar": {
              "outlinewidth": 0,
              "ticks": ""
             }
            },
            "type": "scattermapbox"
           }
          ],
          "scatterpolar": [
           {
            "marker": {
             "colorbar": {
              "outlinewidth": 0,
              "ticks": ""
             }
            },
            "type": "scatterpolar"
           }
          ],
          "scatterpolargl": [
           {
            "marker": {
             "colorbar": {
              "outlinewidth": 0,
              "ticks": ""
             }
            },
            "type": "scatterpolargl"
           }
          ],
          "scatterternary": [
           {
            "marker": {
             "colorbar": {
              "outlinewidth": 0,
              "ticks": ""
             }
            },
            "type": "scatterternary"
           }
          ],
          "surface": [
           {
            "colorbar": {
             "outlinewidth": 0,
             "ticks": ""
            },
            "colorscale": [
             [
              0,
              "#0d0887"
             ],
             [
              0.1111111111111111,
              "#46039f"
             ],
             [
              0.2222222222222222,
              "#7201a8"
             ],
             [
              0.3333333333333333,
              "#9c179e"
             ],
             [
              0.4444444444444444,
              "#bd3786"
             ],
             [
              0.5555555555555556,
              "#d8576b"
             ],
             [
              0.6666666666666666,
              "#ed7953"
             ],
             [
              0.7777777777777778,
              "#fb9f3a"
             ],
             [
              0.8888888888888888,
              "#fdca26"
             ],
             [
              1,
              "#f0f921"
             ]
            ],
            "type": "surface"
           }
          ],
          "table": [
           {
            "cells": {
             "fill": {
              "color": "#EBF0F8"
             },
             "line": {
              "color": "white"
             }
            },
            "header": {
             "fill": {
              "color": "#C8D4E3"
             },
             "line": {
              "color": "white"
             }
            },
            "type": "table"
           }
          ]
         },
         "layout": {
          "annotationdefaults": {
           "arrowcolor": "#2a3f5f",
           "arrowhead": 0,
           "arrowwidth": 1
          },
          "autotypenumbers": "strict",
          "coloraxis": {
           "colorbar": {
            "outlinewidth": 0,
            "ticks": ""
           }
          },
          "colorscale": {
           "diverging": [
            [
             0,
             "#8e0152"
            ],
            [
             0.1,
             "#c51b7d"
            ],
            [
             0.2,
             "#de77ae"
            ],
            [
             0.3,
             "#f1b6da"
            ],
            [
             0.4,
             "#fde0ef"
            ],
            [
             0.5,
             "#f7f7f7"
            ],
            [
             0.6,
             "#e6f5d0"
            ],
            [
             0.7,
             "#b8e186"
            ],
            [
             0.8,
             "#7fbc41"
            ],
            [
             0.9,
             "#4d9221"
            ],
            [
             1,
             "#276419"
            ]
           ],
           "sequential": [
            [
             0,
             "#0d0887"
            ],
            [
             0.1111111111111111,
             "#46039f"
            ],
            [
             0.2222222222222222,
             "#7201a8"
            ],
            [
             0.3333333333333333,
             "#9c179e"
            ],
            [
             0.4444444444444444,
             "#bd3786"
            ],
            [
             0.5555555555555556,
             "#d8576b"
            ],
            [
             0.6666666666666666,
             "#ed7953"
            ],
            [
             0.7777777777777778,
             "#fb9f3a"
            ],
            [
             0.8888888888888888,
             "#fdca26"
            ],
            [
             1,
             "#f0f921"
            ]
           ],
           "sequentialminus": [
            [
             0,
             "#0d0887"
            ],
            [
             0.1111111111111111,
             "#46039f"
            ],
            [
             0.2222222222222222,
             "#7201a8"
            ],
            [
             0.3333333333333333,
             "#9c179e"
            ],
            [
             0.4444444444444444,
             "#bd3786"
            ],
            [
             0.5555555555555556,
             "#d8576b"
            ],
            [
             0.6666666666666666,
             "#ed7953"
            ],
            [
             0.7777777777777778,
             "#fb9f3a"
            ],
            [
             0.8888888888888888,
             "#fdca26"
            ],
            [
             1,
             "#f0f921"
            ]
           ]
          },
          "colorway": [
           "#636efa",
           "#EF553B",
           "#00cc96",
           "#ab63fa",
           "#FFA15A",
           "#19d3f3",
           "#FF6692",
           "#B6E880",
           "#FF97FF",
           "#FECB52"
          ],
          "font": {
           "color": "#2a3f5f"
          },
          "geo": {
           "bgcolor": "white",
           "lakecolor": "white",
           "landcolor": "#E5ECF6",
           "showlakes": true,
           "showland": true,
           "subunitcolor": "white"
          },
          "hoverlabel": {
           "align": "left"
          },
          "hovermode": "closest",
          "mapbox": {
           "style": "light"
          },
          "paper_bgcolor": "white",
          "plot_bgcolor": "#E5ECF6",
          "polar": {
           "angularaxis": {
            "gridcolor": "white",
            "linecolor": "white",
            "ticks": ""
           },
           "bgcolor": "#E5ECF6",
           "radialaxis": {
            "gridcolor": "white",
            "linecolor": "white",
            "ticks": ""
           }
          },
          "scene": {
           "xaxis": {
            "backgroundcolor": "#E5ECF6",
            "gridcolor": "white",
            "gridwidth": 2,
            "linecolor": "white",
            "showbackground": true,
            "ticks": "",
            "zerolinecolor": "white"
           },
           "yaxis": {
            "backgroundcolor": "#E5ECF6",
            "gridcolor": "white",
            "gridwidth": 2,
            "linecolor": "white",
            "showbackground": true,
            "ticks": "",
            "zerolinecolor": "white"
           },
           "zaxis": {
            "backgroundcolor": "#E5ECF6",
            "gridcolor": "white",
            "gridwidth": 2,
            "linecolor": "white",
            "showbackground": true,
            "ticks": "",
            "zerolinecolor": "white"
           }
          },
          "shapedefaults": {
           "line": {
            "color": "#2a3f5f"
           }
          },
          "ternary": {
           "aaxis": {
            "gridcolor": "white",
            "linecolor": "white",
            "ticks": ""
           },
           "baxis": {
            "gridcolor": "white",
            "linecolor": "white",
            "ticks": ""
           },
           "bgcolor": "#E5ECF6",
           "caxis": {
            "gridcolor": "white",
            "linecolor": "white",
            "ticks": ""
           }
          },
          "title": {
           "x": 0.05
          },
          "xaxis": {
           "automargin": true,
           "gridcolor": "white",
           "linecolor": "white",
           "ticks": "",
           "title": {
            "standoff": 15
           },
           "zerolinecolor": "white",
           "zerolinewidth": 2
          },
          "yaxis": {
           "automargin": true,
           "gridcolor": "white",
           "linecolor": "white",
           "ticks": "",
           "title": {
            "standoff": 15
           },
           "zerolinecolor": "white",
           "zerolinewidth": 2
          }
         }
        }
       }
      }
     },
     "metadata": {},
     "output_type": "display_data"
    }
   ],
   "source": [
    "from urllib.request import urlopen\n",
    "import pandas as pd\n",
    "import plotly.express as px\n",
    "\n",
    "data = pd.read_csv('./data/API_SH.STA.ODFC.ZS_DS2_en_csv_v2_4772258.csv')\n",
    "\n",
    "fig = px.choropleth(scope='world',locations=data['Country Name'], locationmode='country names', color=data['2020'], color_continuous_scale='Blues')\n",
    "fig.update_geos(\n",
    "    visible=True, resolution=110,\n",
    "    showcountries=True,\n",
    "    showsubunits=True\n",
    ")\n",
    "fig.update_layout(margin={\"r\":0,\"t\":0,\"l\":0,\"b\":0})\n",
    "fig.show()\n"
   ]
  },
  {
   "cell_type": "code",
   "execution_count": null,
   "metadata": {},
   "outputs": [],
   "source": [
    "import pandas as pd\n",
    "\n",
    "data = pd.read_csv('./data/API_SH.STA.ODFC.ZS_DS2_en_csv_v2_4772258.csv')\n",
    "\n",
    "print(data['Country Name'])"
   ]
  },
  {
   "cell_type": "markdown",
   "metadata": {},
   "source": []
  }
 ],
 "metadata": {
  "kernelspec": {
   "display_name": "Python 3",
   "language": "python",
   "name": "python3"
  },
  "language_info": {
   "codemirror_mode": {
    "name": "ipython",
    "version": 3
   },
   "file_extension": ".py",
   "mimetype": "text/x-python",
   "name": "python",
   "nbconvert_exporter": "python",
   "pygments_lexer": "ipython3",
   "version": "3.11.1"
  },
  "orig_nbformat": 4,
  "vscode": {
   "interpreter": {
    "hash": "0b5da7508d0edf6b612798520c6c9b2ba2ba943f8a73d36f591b3e36dc116ca1"
   }
  }
 },
 "nbformat": 4,
 "nbformat_minor": 2
}
